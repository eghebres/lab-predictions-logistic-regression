{
 "cells": [
  {
   "cell_type": "markdown",
   "id": "b0705f63",
   "metadata": {},
   "source": [
    "## Making predictions with logistic regression"
   ]
  },
  {
   "cell_type": "markdown",
   "id": "9414f8f8",
   "metadata": {},
   "source": []
  },
  {
   "cell_type": "markdown",
   "id": "719423ce",
   "metadata": {},
   "source": []
  },
  {
   "cell_type": "code",
   "execution_count": 1,
   "id": "204a1cfc",
   "metadata": {},
   "outputs": [],
   "source": [
    "# prep\n",
    "import pymysql\n",
    "from sqlalchemy import create_engine\n",
    "import pandas as pd\n",
    "import getpass  \n",
    "import numpy as np"
   ]
  },
  {
   "cell_type": "code",
   "execution_count": 2,
   "id": "e9f59475",
   "metadata": {},
   "outputs": [
    {
     "name": "stdout",
     "output_type": "stream",
     "text": [
      "········\n"
     ]
    }
   ],
   "source": [
    "password = getpass.getpass()"
   ]
  },
  {
   "cell_type": "code",
   "execution_count": null,
   "id": "a8eeee6d",
   "metadata": {},
   "outputs": [],
   "source": [
    "# get the data\n",
    "connection_string = 'mysql+pymysql://root:' + password + '@localhost/sakila'\n",
    "engine = create_engine(connection_string)"
   ]
  },
  {
   "cell_type": "code",
   "execution_count": null,
   "id": "2e729d3e",
   "metadata": {},
   "outputs": [],
   "source": [
    "# 1. \n",
    "# Create a query or queries to extract the information you think may be relevant for building the prediction model. \n",
    "# It should include some film features and some rental features. Use the data from 2005."
   ]
  },
  {
   "cell_type": "code",
   "execution_count": null,
   "id": "0e9c4d5e",
   "metadata": {},
   "outputs": [],
   "source": [
    "query_features = '''select f.film_id, f.rental_rate, f.special_features, f.rating, fc.category_id, fa.actor_id\n",
    "FROM sakila.film as f\n",
    "LEFT JOIN sakila.film_actor fa USING (film_id)\n",
    "LEFT JOIN sakila.film_category fc USING (film_id)\n",
    "GROUP BY f.film_id;'''\n",
    "features = pd.read_sql_query(query_features, engine)"
   ]
  },
  {
   "cell_type": "code",
   "execution_count": null,
   "id": "d8fb595d",
   "metadata": {},
   "outputs": [],
   "source": [
    "# 2. \n",
    "# Create a query to get the list of films and a boolean indicating if it was rented \n",
    "# last month (August 2005). This would be our target variable."
   ]
  },
  {
   "cell_type": "code",
   "execution_count": null,
   "id": "bf00a81e",
   "metadata": {},
   "outputs": [],
   "source": [
    "query_target = '''select f.film_id, rental_date\n",
    "FROM sakila.rental \n",
    "LEFT JOIN sakila.inventory i USING (inventory_id)\n",
    "LEFT JOIN sakila.film f USING (film_id)\n",
    "WHERE rental_date BETWEEN '2005-05-01 00:00:00' AND '2005-05-31 23:59:59'\n",
    "GROUP BY f.film_id;'''\n",
    "target = pd.read_sql_query(query_target, engine)"
   ]
  },
  {
   "cell_type": "code",
   "execution_count": null,
   "id": "bc154f76",
   "metadata": {},
   "outputs": [],
   "source": [
    "features"
   ]
  },
  {
   "cell_type": "code",
   "execution_count": null,
   "id": "7f1f4277",
   "metadata": {},
   "outputs": [],
   "source": [
    "target"
   ]
  },
  {
   "cell_type": "code",
   "execution_count": null,
   "id": "fc8f3c67",
   "metadata": {},
   "outputs": [],
   "source": []
  },
  {
   "cell_type": "code",
   "execution_count": null,
   "id": "acff7999",
   "metadata": {},
   "outputs": [],
   "source": [
    "# I didnt manage to get any further but I will work on it again this week!\n",
    "# We were trying to compare the two lists to identify the missing 314 film-ids but failed\n",
    "# I think we were overcomplicating things and I wanted to have a fresh look at it again "
   ]
  },
  {
   "cell_type": "code",
   "execution_count": null,
   "id": "d37c72fe",
   "metadata": {},
   "outputs": [],
   "source": [
    "# target['rented_in_may']=1"
   ]
  },
  {
   "cell_type": "code",
   "execution_count": null,
   "id": "4e8e2022",
   "metadata": {},
   "outputs": [],
   "source": [
    "# target"
   ]
  },
  {
   "cell_type": "code",
   "execution_count": null,
   "id": "f525b7c6",
   "metadata": {},
   "outputs": [],
   "source": [
    "# '''film_id_features=features['film_id']\n",
    "# film_id_target=target['film_id']\n",
    "# film_id_target\n",
    "# film_id_features\n",
    "# missing_film_id=[]\n",
    "# i=0\n",
    "# j=0\n",
    "# def compareList(l1,l2):\n",
    "#     for i in l1:\n",
    "#         for j in l2:\n",
    "#             if(i==j):\n",
    "#                 pass\n",
    "#             else:\n",
    "#                 missing_film_id.append(i)\n",
    "#     return missing_film_id\n",
    "# compareList(film_id_features,film_id_target)'''"
   ]
  },
  {
   "cell_type": "code",
   "execution_count": null,
   "id": "bde65cdb",
   "metadata": {},
   "outputs": [],
   "source": [
    "# len(missing_film_id)"
   ]
  },
  {
   "cell_type": "code",
   "execution_count": null,
   "id": "ba342b12",
   "metadata": {},
   "outputs": [],
   "source": [
    "# target['rented_in_may']=np.where(target[\"rented_in_may\"] == \"1\",True,False)\n"
   ]
  },
  {
   "cell_type": "code",
   "execution_count": null,
   "id": "b3f2db81",
   "metadata": {},
   "outputs": [],
   "source": [
    "# target.head()\n"
   ]
  },
  {
   "cell_type": "code",
   "execution_count": null,
   "id": "c46d9afc",
   "metadata": {},
   "outputs": [],
   "source": []
  },
  {
   "cell_type": "code",
   "execution_count": null,
   "id": "20d1cfe8",
   "metadata": {},
   "outputs": [],
   "source": []
  },
  {
   "cell_type": "code",
   "execution_count": null,
   "id": "bc0540ce",
   "metadata": {},
   "outputs": [],
   "source": []
  }
 ],
 "metadata": {
  "kernelspec": {
   "display_name": "Python 3 (ipykernel)",
   "language": "python",
   "name": "python3"
  },
  "language_info": {
   "codemirror_mode": {
    "name": "ipython",
    "version": 3
   },
   "file_extension": ".py",
   "mimetype": "text/x-python",
   "name": "python",
   "nbconvert_exporter": "python",
   "pygments_lexer": "ipython3",
   "version": "3.9.12"
  }
 },
 "nbformat": 4,
 "nbformat_minor": 5
}
